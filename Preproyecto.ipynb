{
 "cells": [
  {
   "cell_type": "markdown",
   "metadata": {},
   "source": [
    "# Pre Proyecto"
   ]
  },
  {
   "cell_type": "code",
   "execution_count": 2,
   "metadata": {},
   "outputs": [],
   "source": [
    "import pandas as pd\n",
    "import os"
   ]
  },
  {
   "cell_type": "code",
   "execution_count": 5,
   "metadata": {},
   "outputs": [],
   "source": [
    "os.chdir(r'C:\\Users\\andry\\OneDrive\\Documentos\\ML\\Preproyecyo')\n",
    "Base1 = pd.read_csv('1.csv')\n",
    "Base2 = pd.read_csv('2.csv')\n",
    "Base3 = pd.read_csv('3.csv')\n",
    "Base4 = pd.read_csv('4.csv')\n",
    "Base4 = pd.read_csv('5.csv')\n",
    "Base6 = pd.read_csv('6.csv')\n",
    "Base7 = pd.read_csv('7.csv')\n",
    "Base8 = pd.read_csv('8.csv')\n",
    "Base9 = pd.read_csv('9.csv')\n",
    "Base10 = pd.read_csv('10.csv')\n",
    "Base11 = pd.read_csv('11.csv')\n",
    "Base12 = pd.read_csv('12.csv')"
   ]
  },
  {
   "cell_type": "code",
   "execution_count": null,
   "metadata": {},
   "outputs": [],
   "source": []
  }
 ],
 "metadata": {
  "kernelspec": {
   "display_name": "Python 3",
   "language": "python",
   "name": "python3"
  },
  "language_info": {
   "codemirror_mode": {
    "name": "ipython",
    "version": 3
   },
   "file_extension": ".py",
   "mimetype": "text/x-python",
   "name": "python",
   "nbconvert_exporter": "python",
   "pygments_lexer": "ipython3",
   "version": "3.7.4"
  }
 },
 "nbformat": 4,
 "nbformat_minor": 4
}
